{
 "cells": [
  {
   "cell_type": "code",
   "execution_count": 1,
   "metadata": {},
   "outputs": [],
   "source": [
    "import math\n",
    "import numpy as np\n",
    "import matplotlib.pyplot as plt"
   ]
  },
  {
   "cell_type": "code",
   "execution_count": 2,
   "metadata": {},
   "outputs": [],
   "source": [
    "from keras.datasets import mnist\n",
    "from keras.utils.np_utils import to_categorical "
   ]
  },
  {
   "cell_type": "code",
   "execution_count": 3,
   "metadata": {},
   "outputs": [
    {
     "name": "stdout",
     "output_type": "stream",
     "text": [
      "(60000, 28, 28)\n",
      "(60000,)\n",
      "(10000, 28, 28)\n",
      "(10000,)\n"
     ]
    }
   ],
   "source": [
    "(x_train, y_train), (x_test, y_test) = mnist.load_data()\n",
    "print(x_train.shape)\n",
    "print(y_train.shape)\n",
    "print(x_test.shape)\n",
    "print(y_test.shape)"
   ]
  },
  {
   "cell_type": "code",
   "execution_count": 4,
   "metadata": {},
   "outputs": [],
   "source": [
    "x_train = x_train.reshape((len(x_train), np.prod(x_train.shape[1:])))\n",
    "x_test = x_test.reshape((len(x_test), np.prod(x_test.shape[1:])))"
   ]
  },
  {
   "cell_type": "code",
   "execution_count": 5,
   "metadata": {},
   "outputs": [
    {
     "name": "stdout",
     "output_type": "stream",
     "text": [
      "(60000, 784)\n",
      "(60000,)\n",
      "(10000, 784)\n",
      "(10000,)\n"
     ]
    }
   ],
   "source": [
    "print(x_train.shape)\n",
    "print(y_train.shape)\n",
    "print(x_test.shape)\n",
    "print(y_test.shape)"
   ]
  },
  {
   "cell_type": "code",
   "execution_count": 6,
   "metadata": {},
   "outputs": [
    {
     "data": {
      "image/png": "[encoded data removed]",
      "text/plain": [
       "<Figure size 1440x288 with 20 Axes>"
      ]
     },
     "metadata": {
      "needs_background": "light"
     },
     "output_type": "display_data"
    }
   ],
   "source": [
    "n = 20\n",
    "plt.figure(figsize=(20,4))\n",
    "for i in range(n):\n",
    "    ax = plt.subplot(2, n, i+1)\n",
    "    plt.imshow(x_train[i].reshape(28,28))\n",
    "    plt.gray()\n",
    "    ax.get_xaxis().set_visible(False)\n",
    "    ax.get_yaxis().set_visible(False)\n",
    "plt.show()"
   ]
  },
  {
   "cell_type": "code",
   "execution_count": 7,
   "metadata": {},
   "outputs": [
    {
     "data": {
      "text/plain": [
       "<matplotlib.image.AxesImage at 0x24ab5261f88>"
      ]
     },
     "execution_count": 7,
     "metadata": {},
     "output_type": "execute_result"
    },
    {
     "data": {
      "image/png": "[encoded data removed]",
      "text/plain": [
       "<Figure size 432x288 with 1 Axes>"
      ]
     },
     "metadata": {
      "needs_background": "light"
     },
     "output_type": "display_data"
    }
   ],
   "source": [
    "XX_train = x_train.astype('float32')/255.\n",
    "XX_test = x_test.astype('float32')/255.\n",
    "plt.imshow(XX_train[10].reshape(28,28))"
   ]
  },
  {
   "cell_type": "code",
   "execution_count": 8,
   "metadata": {},
   "outputs": [],
   "source": [
    "XX_train = XX_train.T\n",
    "XX_test = XX_test.T\n",
    "Y_train = to_categorical(y_train, num_classes=10).T\n",
    "Y_test = to_categorical(y_test, num_classes=10).T"
   ]
  },
  {
   "cell_type": "code",
   "execution_count": 9,
   "metadata": {},
   "outputs": [
    {
     "name": "stdout",
     "output_type": "stream",
     "text": [
      "(784, 60000)\n",
      "(10, 60000)\n",
      "(784, 10000)\n",
      "(10, 10000)\n"
     ]
    }
   ],
   "source": [
    "print(XX_train.shape)\n",
    "print(Y_train.shape)\n",
    "print(XX_test.shape)\n",
    "print(Y_test.shape)"
   ]
  },
  {
   "cell_type": "code",
   "execution_count": 10,
   "metadata": {},
   "outputs": [],
   "source": [
    "def softmax(z):\n",
    "    e_z = np.exp(z - np.max(z)) \n",
    "    return e_z / e_z.sum(axis=0, keepdims=True) "
   ]
  },
  {
   "cell_type": "code",
   "execution_count": 11,
   "metadata": {},
   "outputs": [],
   "source": [
    "def initialize_param(d):\n",
    "    np.random.seed(1)\n",
    "    w = np.random.randn(d,10)/np.sqrt(d)\n",
    "    b = np.zeros((10,1))\n",
    "    params = {'w':w, 'b':b}\n",
    "    return params"
   ]
  },
  {
   "cell_type": "code",
   "execution_count": 12,
   "metadata": {},
   "outputs": [],
   "source": [
    "def forward(params, X, Y):\n",
    "    w = params['w']\n",
    "    b = params['b']\n",
    "    A = softmax(np.dot(w.T,X) + b)\n",
    "    m = X.shape[1]\n",
    "    cost = (-1/m)*np.sum(Y * np.log(A + 1e-8))\n",
    "    return A, cost"
   ]
  },
  {
   "cell_type": "code",
   "execution_count": 13,
   "metadata": {},
   "outputs": [],
   "source": [
    "def backprop(X, Y, A):\n",
    "    m = X.shape[1]\n",
    "    dw = (1/m)*np.dot(X,(A-Y).T)\n",
    "    db = (1/m)*np.sum(A-Y)\n",
    "    return dw, db"
   ]
  },
  {
   "cell_type": "code",
   "execution_count": 14,
   "metadata": {},
   "outputs": [],
   "source": [
    "def optimize(params, X, Y, num_iterations, l_rate):\n",
    "    w = params['w']\n",
    "    b = params['b']\n",
    "    costs = []\n",
    "    for i in range(num_iterations):\n",
    "        A, cost = forward(params, X, Y)\n",
    "        dw, db = backprop(X, Y, A)\n",
    "        params['w'] = params['w'] - l_rate*dw\n",
    "        params['b'] = params['b'] - l_rate*db\n",
    "        if i%100 == 0:\n",
    "            print('Cost on {0} interation: {1} {2} {3}'.format(i, cost, np.linalg.norm(dw), db))\n",
    "        costs.append(cost)\n",
    "    return params, costs"
   ]
  },
  {
   "cell_type": "code",
   "execution_count": 15,
   "metadata": {},
   "outputs": [],
   "source": [
    "def predict(params, X):\n",
    "    w = params['w']\n",
    "    print(w.shape, X.shape)\n",
    "    b = params['b']\n",
    "    m = X.shape[1]\n",
    "    A = softmax(np.dot(w.T,X)+b)\n",
    "    return A"
   ]
  },
  {
   "cell_type": "code",
   "execution_count": 16,
   "metadata": {},
   "outputs": [],
   "source": [
    "def model(d, X_train, Y_train, X_test, Y_test, num_iter, l_rate):\n",
    "        params = initialize_param(d)\n",
    "        print(params[\"w\"].shape,\"pshape\")\n",
    "        params,costs = optimize(params, X_train, Y_train, num_iter, l_rate)\n",
    "        Y_hat_train = np.argmax(predict(params,XX_train), axis=0)\n",
    "        Y_hat_test = np.argmax(predict(params,XX_test), axis=0)\n",
    "        Y_train = np.argmax(Y_train, axis=0)\n",
    "        Y_test = np.argmax(Y_test, axis=0)\n",
    "        print(\"train accuracy: {} %\".format((Y_hat_train == Y_train).mean() * 100))\n",
    "        print(\"test accuracy: {} %\".format((Y_hat_test == Y_test).mean() * 100))\n",
    "        return params,costs"
   ]
  },
  {
   "cell_type": "code",
   "execution_count": 17,
   "metadata": {},
   "outputs": [
    {
     "name": "stdout",
     "output_type": "stream",
     "text": [
      "(784, 10) pshape\n",
      "Cost on 0 interation: 2.436488226563119 1.1366058666201924 -3.067176142697766e-17\n",
      "Cost on 100 interation: 0.3973365593782896 0.03928611123830174 2.960594732333751e-19\n",
      "Cost on 200 interation: 0.3524292063976181 0.023195791722622715 -1.5395092608135505e-18\n",
      "Cost on 300 interation: 0.3326214806782024 0.017149746080770606 -1.1250259982868254e-18\n",
      "Cost on 400 interation: 0.3207508490681856 0.013867317350166941 0.0\n",
      "Cost on 500 interation: 0.3125931494047801 0.011775141572430379 -7.993605777301128e-19\n",
      "Cost on 600 interation: 0.3065224185765274 0.010315116477706021 4.440892098500626e-19\n",
      "Cost on 700 interation: 0.30176036922938343 0.009234174700076633 -2.664535259100376e-19\n",
      "Cost on 800 interation: 0.2978819980684752 0.00839925791320741 3.552713678800501e-19\n",
      "Cost on 900 interation: 0.2946334967703852 0.0077332328468164326 2.102022259956963e-18\n",
      "Cost on 1000 interation: 0.2918530081937015 0.007188194815028957 6.513308411134252e-19\n",
      "Cost on 1100 interation: 0.2894319353570282 0.006732814941358958 5.921189464667502e-19\n",
      "Cost on 1200 interation: 0.2872943837244294 0.006345755116947719 1.1250259982868254e-18\n",
      "Cost on 1300 interation: 0.2853855016311192 0.006011991515757279 4.144832625267251e-19\n",
      "Cost on 1400 interation: 0.2836645122339274 0.005720646896807806 7.105427357601002e-19\n",
      "Cost on 1500 interation: 0.2821003655092659 0.0054636553364012675 -1.6579330501069004e-18\n",
      "Cost on 1600 interation: 0.28066892446101 0.005234909483558172 -5.329070518200752e-19\n",
      "Cost on 1700 interation: 0.27935108630659633 0.005029699094515788 2.664535259100376e-19\n",
      "Cost on 1800 interation: 0.278131493313774 0.004844331495431456 -5.921189464667502e-19\n",
      "Cost on 1900 interation: 0.276997626759304 0.004675869039216482 -6.513308411134252e-19\n",
      "Cost on 2000 interation: 0.27593915644281286 0.0045219437346912155 2.664535259100376e-19\n",
      "Cost on 2100 interation: 0.2749474646929002 0.004380623935297741 2.0724163126336257e-18\n",
      "Cost on 2200 interation: 0.27401529203729796 0.004250316857432069 -8.289665250534502e-19\n",
      "Cost on 2300 interation: 0.27313646932136526 0.004129696208165705 5.921189464667502e-19\n",
      "Cost on 2400 interation: 0.27230571231510386 0.004017647701454503 1.4802973661668756e-19\n",
      "Cost on 2500 interation: 0.27151846220145 0.003913227511972795 -2.960594732333751e-19\n",
      "Cost on 2600 interation: 0.27077076023788627 0.0038156302167031827 -6.217248937900877e-19\n",
      "Cost on 2700 interation: 0.2700591482078281 0.003724163784292926 1.0954200509634879e-18\n",
      "Cost on 2800 interation: 0.26938058857197916 0.0036382298625452472 -2.0724163126336255e-19\n",
      "Cost on 2900 interation: 0.26873239983700253 0.0035573080933183018 -3.8487731520338763e-19\n",
      "Cost on 3000 interation: 0.26811220380109474 0.003480943520869418 9.473903143468003e-19\n",
      "Cost on 3100 interation: 0.26751788215867234 0.0034087363995101605 -5.921189464667502e-19\n",
      "Cost on 3200 interation: 0.2669475405461596 0.0033403338792638987 -5.921189464667502e-19\n",
      "Cost on 3300 interation: 0.266399478553236 0.0032754231741496374 -5.329070518200752e-19\n",
      "Cost on 3400 interation: 0.2658721645536805 0.0032137259104402793 8.289665250534502e-19\n",
      "Cost on 3500 interation: 0.26536421445830155 0.003154993421191924 -1.2434497875801753e-18\n",
      "Cost on 3600 interation: 0.2648743736812319 0.0030990028050881867 4.736951571734001e-19\n",
      "Cost on 3700 interation: 0.26440150175567184 0.003045553606824191 2.0132044179869507e-18\n",
      "Cost on 3800 interation: 0.2639445591471557 0.0029944650061684602 4.440892098500626e-19\n",
      "Cost on 3900 interation: 0.2635025958997216 0.0029455734258605924 1.0658141036401504e-18\n",
      "Cost on 4000 interation: 0.2630747418189292 0.0028987304863502448 -1.3026616822268504e-18\n",
      "Cost on 4100 interation: 0.2626601979498916 0.0028538012493198052 3.552713678800501e-19\n",
      "Cost on 4200 interation: 0.26225822915166913 0.0028106627028900333 -6.217248937900877e-19\n",
      "Cost on 4300 interation: 0.26186815760395693 0.0027692024500781086 -2.664535259100376e-19\n",
      "Cost on 4400 interation: 0.26148935710987603 0.002729317568980475 -1.2138438402568378e-18\n",
      "Cost on 4500 interation: 0.26112124808128057 0.0026909136186813562 -5.625129991434127e-19\n",
      "Cost on 4600 interation: 0.2607632931114031 0.002653903769340559 -1.0954200509634879e-18\n",
      "Cost on 4700 interation: 0.26041499305474664 0.002618208038519706 0.0\n",
      "Cost on 4800 interation: 0.2600758835465436 0.0025837526187408796 -7.105427357601002e-19\n",
      "Cost on 4900 interation: 0.25974553190437505 0.002550469283672212 -1.0362081563168129e-18\n",
      "(784, 10) (784, 60000)\n",
      "(784, 10) (784, 10000)\n",
      "train accuracy: 92.90333333333334 %\n",
      "test accuracy: 92.46 %\n"
     ]
    }
   ],
   "source": [
    "params,costs = model(XX_train.shape[0], XX_train, Y_train, XX_test, Y_test, 5000, 0.5)"
   ]
  },
  {
   "cell_type": "code",
   "execution_count": 18,
   "metadata": {},
   "outputs": [
    {
     "data": {
      "text/plain": [
       "[<matplotlib.lines.Line2D at 0x24ab5124e48>]"
      ]
     },
     "execution_count": 18,
     "metadata": {},
     "output_type": "execute_result"
    },
    {
     "data": {
      "image/png": "[encoded data removed]",
      "text/plain": [
       "<Figure size 432x288 with 1 Axes>"
      ]
     },
     "metadata": {
      "needs_background": "light"
     },
     "output_type": "display_data"
    }
   ],
   "source": [
    "plt.plot(range(len(costs)),costs)"
   ]
  },
  {
   "cell_type": "code",
   "execution_count": null,
   "metadata": {},
   "outputs": [],
   "source": []
  }
 ],
 "metadata": {
  "kernelspec": {
   "display_name": "TensorFlow-GPU",
   "language": "python",
   "name": "tensorflow"
  },
  "language_info": {
   "codemirror_mode": {
    "name": "ipython",
    "version": 3
   },
   "file_extension": ".py",
   "mimetype": "text/x-python",
   "name": "python",
   "nbconvert_exporter": "python",
   "pygments_lexer": "ipython3",
   "version": "3.7.4"
  }
 },
 "nbformat": 4,
 "nbformat_minor": 4
}
