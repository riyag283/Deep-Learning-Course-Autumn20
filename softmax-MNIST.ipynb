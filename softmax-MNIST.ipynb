{
 "cells": [
  {
   "cell_type": "code",
   "execution_count": 1,
   "metadata": {},
   "outputs": [],
   "source": [
    "import math\n",
    "import numpy as np\n",
    "import matplotlib.pyplot as plt"
   ]
  },
  {
   "cell_type": "code",
   "execution_count": 2,
   "metadata": {},
   "outputs": [],
   "source": [
    "from keras.datasets import mnist\n",
    "from keras.utils.np_utils import to_categorical "
   ]
  },
  {
   "cell_type": "code",
   "execution_count": 3,
   "metadata": {},
   "outputs": [
    {
     "name": "stdout",
     "output_type": "stream",
     "text": [
      "(60000, 28, 28)\n",
      "(60000,)\n",
      "(10000, 28, 28)\n",
      "(10000,)\n"
     ]
    }
   ],
   "source": [
    "(x_train, y_train), (x_test, y_test) = mnist.load_data()\n",
    "print(x_train.shape)\n",
    "print(y_train.shape)\n",
    "print(x_test.shape)\n",
    "print(y_test.shape)"
   ]
  },
  {
   "cell_type": "code",
   "execution_count": 4,
   "metadata": {},
   "outputs": [],
   "source": [
    "x_train = x_train.reshape((len(x_train), np.prod(x_train.shape[1:])))\n",
    "x_test = x_test.reshape((len(x_test), np.prod(x_test.shape[1:])))"
   ]
  },
  {
   "cell_type": "code",
   "execution_count": 5,
   "metadata": {},
   "outputs": [
    {
     "name": "stdout",
     "output_type": "stream",
     "text": [
      "(60000, 784)\n",
      "(60000,)\n",
      "(10000, 784)\n",
      "(10000,)\n"
     ]
    }
   ],
   "source": [
    "print(x_train.shape)\n",
    "print(y_train.shape)\n",
    "print(x_test.shape)\n",
    "print(y_test.shape)"
   ]
  },
  {
   "cell_type": "code",
   "execution_count": 6,
   "metadata": {},
   "outputs": [
    {
     "data": {
      "image/png": "[encoded data removed]",
      "text/plain": [
       "<Figure size 1440x288 with 20 Axes>"
      ]
     },
     "metadata": {
      "needs_background": "light"
     },
     "output_type": "display_data"
    }
   ],
   "source": [
    "n = 20\n",
    "plt.figure(figsize=(20,4))\n",
    "for i in range(n):\n",
    "    ax = plt.subplot(2, n, i+1)\n",
    "    plt.imshow(x_train[i].reshape(28,28))\n",
    "    plt.gray()\n",
    "    ax.get_xaxis().set_visible(False)\n",
    "    ax.get_yaxis().set_visible(False)\n",
    "plt.show()"
   ]
  },
  {
   "cell_type": "code",
   "execution_count": 7,
   "metadata": {},
   "outputs": [
    {
     "data": {
      "text/plain": [
       "<matplotlib.image.AxesImage at 0x1e24512bb08>"
      ]
     },
     "execution_count": 7,
     "metadata": {},
     "output_type": "execute_result"
    },
    {
     "data": {
      "image/png": "[encoded data removed]",
      "text/plain": [
       "<Figure size 432x288 with 1 Axes>"
      ]
     },
     "metadata": {
      "needs_background": "light"
     },
     "output_type": "display_data"
    }
   ],
   "source": [
    "XX_train = x_train.astype('float32')/255.\n",
    "XX_test = x_test.astype('float32')/255.\n",
    "plt.imshow(XX_train[10].reshape(28,28))"
   ]
  },
  {
   "cell_type": "code",
   "execution_count": 8,
   "metadata": {},
   "outputs": [],
   "source": [
    "XX_train = XX_train.T\n",
    "XX_test = XX_test.T\n",
    "Y_train = to_categorical(y_train, num_classes=10).T\n",
    "Y_test = to_categorical(y_test, num_classes=10).T"
   ]
  },
  {
   "cell_type": "code",
   "execution_count": 9,
   "metadata": {},
   "outputs": [
    {
     "name": "stdout",
     "output_type": "stream",
     "text": [
      "(784, 60000)\n",
      "(10, 60000)\n",
      "(784, 10000)\n",
      "(10, 10000)\n"
     ]
    }
   ],
   "source": [
    "print(XX_train.shape)\n",
    "print(Y_train.shape)\n",
    "print(XX_test.shape)\n",
    "print(Y_test.shape)"
   ]
  },
  {
   "cell_type": "code",
   "execution_count": 10,
   "metadata": {},
   "outputs": [],
   "source": [
    "def softmax(z):\n",
    "    e_z = np.exp(z - np.max(z)) \n",
    "    return e_z / e_z.sum(axis=0, keepdims=True) "
   ]
  },
  {
   "cell_type": "code",
   "execution_count": 11,
   "metadata": {},
   "outputs": [],
   "source": [
    "def initialize_param(d):\n",
    "    np.random.seed(1)\n",
    "    w = np.random.randn(d,10)/np.sqrt(d)\n",
    "    b = np.zeros((10,1))\n",
    "    params = {'w':w, 'b':b}\n",
    "    return params"
   ]
  },
  {
   "cell_type": "code",
   "execution_count": 12,
   "metadata": {},
   "outputs": [],
   "source": [
    "def forward(params, X, Y):\n",
    "    w = params['w']\n",
    "    b = params['b']\n",
    "    A = softmax(np.dot(w.T,X) + b)\n",
    "    m = X.shape[1]\n",
    "    cost = (-1/m)*np.sum(Y * np.log(A + 1e-8))\n",
    "    return A, cost"
   ]
  },
  {
   "cell_type": "code",
   "execution_count": 13,
   "metadata": {},
   "outputs": [],
   "source": [
    "def backprop(X, Y, A):\n",
    "    m = X.shape[1]\n",
    "    dw = (1/m)*np.dot(X,(A-Y).T)\n",
    "    db = (1/m)*np.sum(A-Y)\n",
    "    return dw, db"
   ]
  },
  {
   "cell_type": "code",
   "execution_count": 14,
   "metadata": {},
   "outputs": [],
   "source": [
    "def optimize(params, X, Y, num_iterations, l_rate):\n",
    "    w = params['w']\n",
    "    b = params['b']\n",
    "    costs = []\n",
    "    for i in range(num_iterations):\n",
    "        A, cost = forward(params, X, Y)\n",
    "        dw, db = backprop(X, Y, A)\n",
    "        params['w'] = params['w'] - l_rate*dw\n",
    "        params['b'] = params['b'] - l_rate*db\n",
    "        if i%100 == 0:\n",
    "            print('Cost on {0} interation: {1} {2} {3}'.format(i, cost, np.linalg.norm(dw), db))\n",
    "        costs.append(cost)\n",
    "    return params, costs"
   ]
  },
  {
   "cell_type": "code",
   "execution_count": 15,
   "metadata": {},
   "outputs": [],
   "source": [
    "def predict(params, X):\n",
    "    w = params['w']\n",
    "    print(w.shape, X.shape)\n",
    "    b = params['b']\n",
    "    m = X.shape[1]\n",
    "    A = softmax(np.dot(w.T,X)+b)\n",
    "    return A"
   ]
  },
  {
   "cell_type": "code",
   "execution_count": 16,
   "metadata": {},
   "outputs": [],
   "source": [
    "def model(d, X_train, Y_train, X_test, Y_test, num_iter, l_rate):\n",
    "        params = initialize_param(d)\n",
    "        print(params[\"w\"].shape,\"pshape\")\n",
    "        params,costs = optimize(params, X_train, Y_train, num_iter, l_rate)\n",
    "        Y_hat_train = predict(params,XX_train)\n",
    "        Y_hat_test = predict(params,XX_test)\n",
    "\n",
    "        print(\"train accuracy: {} %\".format(100 - np.mean(np.abs(Y_hat_train - Y_train)) * 100))\n",
    "        print(\"test accuracy: {} %\".format(100 - np.mean(np.abs(Y_hat_test - Y_test)) * 100))\n",
    "        return params,costs"
   ]
  },
  {
   "cell_type": "code",
   "execution_count": 23,
   "metadata": {},
   "outputs": [
    {
     "name": "stdout",
     "output_type": "stream",
     "text": [
      "(784, 10) pshape\n",
      "Cost on 0 interation: 2.436488226563119 1.1366058666201924 -3.067176142697766e-17\n",
      "Cost on 100 interation: 0.6140793499129976 0.14731918378778486 1.0658141036401504e-18\n",
      "Cost on 200 interation: 0.49349119392433577 0.08265392383436176 2.220446049250313e-18\n",
      "Cost on 300 interation: 0.4445869523096169 0.05938195955176011 -5.033011044967377e-19\n",
      "Cost on 400 interation: 0.4166164790036122 0.047184301392954896 -5.921189464667502e-20\n",
      "Cost on 500 interation: 0.3979535328842856 0.03958973920139576 5.921189464667502e-20\n",
      "Cost on 600 interation: 0.38435610251548524 0.03436324055036924 1.1250259982868254e-18\n",
      "Cost on 700 interation: 0.3738704917424687 0.030522324764162823 -5.625129991434127e-19\n",
      "Cost on 800 interation: 0.36545786613044884 0.02756576511428196 3.434289889507151e-18\n",
      "Cost on 900 interation: 0.3585087183718252 0.025210288904839704 -8.289665250534502e-19\n",
      "Cost on 1000 interation: 0.35263878813410454 0.023283300103383205 -2.3684757858670007e-19\n",
      "Cost on 1100 interation: 0.3475921627464856 0.02167338751239944 -7.105427357601002e-19\n",
      "Cost on 1200 interation: 0.3431908765425004 0.02030526782511362 3.256654205567126e-19\n",
      "Cost on 1300 interation: 0.33930676606220284 0.019126144323439138 2.6053233644537007e-18\n",
      "Cost on 1400 interation: 0.33584483169227625 0.018097832943120198 1.0658141036401504e-18\n",
      "Cost on 1500 interation: 0.33273293058158004 0.017191992759293246 1.4802973661668755e-18\n",
      "Cost on 1600 interation: 0.3299151371198977 0.016387117664250547 1.0954200509634879e-18\n",
      "Cost on 1700 interation: 0.3273473217435457 0.01566657251714546 1.6579330501069004e-18\n",
      "Cost on 1800 interation: 0.32499412179603854 0.015017272673092335 4.144832625267251e-19\n",
      "Cost on 1900 interation: 0.32282681409925773 0.014428773041442824 8.585724723767877e-19\n",
      "Cost on 2000 interation: 0.32082178798317407 0.01389262538458981 -8.881784197001253e-19\n",
      "Cost on 2100 interation: 0.31895942800580646 0.013401915783133931 5.625129991434127e-19\n",
      "Cost on 2200 interation: 0.317223282293349 0.012950925829354134 -6.513308411134252e-19\n",
      "Cost on 2300 interation: 0.315599433875057 0.012534880486496475 -5.921189464667502e-20\n",
      "Cost on 2400 interation: 0.3140760188101572 0.012149757737305962 8.289665250534502e-19\n",
      "Cost on 2500 interation: 0.3126428521414369 0.011792142994035661 1.983598470663613e-18\n",
      "Cost on 2600 interation: 0.3112911341906166 0.011459116407060517 -8.289665250534502e-19\n",
      "Cost on 2700 interation: 0.31001321750160393 0.011148164674445616 -8.881784197001253e-19\n",
      "Cost on 2800 interation: 0.308802420115948 0.010857111320868603 -1.7763568394002505e-19\n",
      "Cost on 2900 interation: 0.30765287463590885 0.010584061055815774 6.513308411134252e-19\n",
      "Cost on 3000 interation: 0.30655940521300207 0.010327354976521097 1.1250259982868254e-18\n",
      "Cost on 3100 interation: 0.3055174265333727 0.010085534205480137 2.6941412064237135e-18\n",
      "Cost on 3200 interation: 0.30452286028224096 0.009857310147718604 2.3684757858670007e-19\n",
      "Cost on 3300 interation: 0.30357206561099714 0.009641539987847522 -8.881784197001253e-19\n",
      "Cost on 3400 interation: 0.3026617809073462 0.009437206367920363 -9.177843670234628e-19\n",
      "Cost on 3500 interation: 0.3017890747541901 0.009243400426378336 -1.2434497875801753e-18\n",
      "Cost on 3600 interation: 0.3009513044080566 0.009059307558381108 -5.921189464667502e-19\n",
      "Cost on 3700 interation: 0.3001460804693879 0.008884195394429785 -8.289665250534502e-19\n",
      "Cost on 3800 interation: 0.299371236681171 0.008717403598716398 8.881784197001253e-20\n",
      "Cost on 3900 interation: 0.2986248039983474 0.00855833516923963 -3.256654205567126e-19\n",
      "Cost on 4000 interation: 0.2979049882321853 0.008406448984347245 3.8487731520338763e-19\n",
      "Cost on 4100 interation: 0.2972101507016978 0.008261253389359577 -8.881784197001253e-19\n",
      "Cost on 4200 interation: 0.2965387914260116 0.00812230065551995 1.1842378929335004e-19\n",
      "Cost on 4300 interation: 0.2958895344731387 0.007989182174112262 5.329070518200752e-19\n",
      "Cost on 4400 interation: 0.295261115146305 0.00786152427299033 8.289665250534502e-19\n",
      "Cost on 4500 interation: 0.294652368742215 0.00773898456234508 4.736951571734001e-19\n",
      "Cost on 4600 interation: 0.2940622206589973 0.007621248732336624 9.473903143468003e-19\n",
      "Cost on 4700 interation: 0.2934896776670478 0.007508027738037159 5.625129991434127e-19\n",
      "Cost on 4800 interation: 0.2929338201851923 0.007399055317584421 6.217248937900877e-19\n",
      "Cost on 4900 interation: 0.29239379542869315 0.007294085798012522 1.5395092608135505e-18\n",
      "(784, 10) (784, 60000)\n",
      "(784, 10) (784, 10000)\n",
      "train accuracy: 97.07921433096287 %\n",
      "test accuracy: 97.15130965868636 %\n"
     ]
    }
   ],
   "source": [
    "params,costs = model(XX_train.shape[0], XX_train, Y_train, XX_test, Y_test, 5000, 0.1)"
   ]
  },
  {
   "cell_type": "code",
   "execution_count": 24,
   "metadata": {},
   "outputs": [
    {
     "data": {
      "text/plain": [
       "[<matplotlib.lines.Line2D at 0x1e2455af208>]"
      ]
     },
     "execution_count": 24,
     "metadata": {},
     "output_type": "execute_result"
    },
    {
     "data": {
      "image/png": "[encoded data removed]",
      "text/plain": [
       "<Figure size 432x288 with 1 Axes>"
      ]
     },
     "metadata": {
      "needs_background": "light"
     },
     "output_type": "display_data"
    }
   ],
   "source": [
    "plt.plot(range(len(costs)),costs)"
   ]
  },
  {
   "cell_type": "code",
   "execution_count": null,
   "metadata": {},
   "outputs": [],
   "source": []
  }
 ],
 "metadata": {
  "kernelspec": {
   "display_name": "TensorFlow-GPU",
   "language": "python",
   "name": "tensorflow"
  },
  "language_info": {
   "codemirror_mode": {
    "name": "ipython",
    "version": 3
   },
   "file_extension": ".py",
   "mimetype": "text/x-python",
   "name": "python",
   "nbconvert_exporter": "python",
   "pygments_lexer": "ipython3",
   "version": "3.7.4"
  }
 },
 "nbformat": 4,
 "nbformat_minor": 4
}
